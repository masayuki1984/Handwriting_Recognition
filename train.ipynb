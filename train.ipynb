{
 "cells": [
  {
   "cell_type": "markdown",
   "metadata": {},
   "source": [
    "# 学習方法の例"
   ]
  },
  {
   "cell_type": "code",
   "execution_count": 9,
   "metadata": {},
   "outputs": [],
   "source": [
    "import numpy as np\n",
    "import pandas as pd\n",
    "import matplotlib.pyplot as plt\n",
    "from common.layers import TwoLayerNet\n",
    "from sklearn.model_selection import train_test_split\n",
    "import pickle"
   ]
  },
  {
   "cell_type": "markdown",
   "metadata": {},
   "source": [
    "## データを読む1"
   ]
  },
  {
   "cell_type": "code",
   "execution_count": 10,
   "metadata": {},
   "outputs": [
    {
     "name": "stdout",
     "output_type": "stream",
     "text": [
      "train_data.shape= (3000, 1, 28, 28)\n",
      "train_label.shape= (3000, 15)\n"
     ]
    }
   ],
   "source": [
    "train_data = np.load(\"../1_data/train_data.npy\")\n",
    "train_label = np.load(\"../1_data/train_label.npy\")\n",
    "print(\"train_data.shape=\", train_data.shape)\n",
    "print(\"train_label.shape=\", train_label.shape)"
   ]
  },
  {
   "cell_type": "code",
   "execution_count": 11,
   "metadata": {
    "scrolled": true
   },
   "outputs": [
    {
     "name": "stdout",
     "output_type": "stream",
     "text": [
      "[[[[0.99607843 0.99607843 0.99607843 ... 1.         1.\n",
      "    0.99607843]\n",
      "   [0.99607843 0.99607843 0.99607843 ... 0.6901961  1.\n",
      "    1.        ]\n",
      "   [0.99607843 0.99607843 0.99607843 ... 0.         0.\n",
      "    1.        ]\n",
      "   ...\n",
      "   [0.99607843 0.99607843 0.99607843 ... 0.99607843 0.99607843\n",
      "    0.99607843]\n",
      "   [0.99607843 0.99607843 0.99607843 ... 0.99607843 0.99607843\n",
      "    0.99607843]\n",
      "   [0.99607843 0.99607843 0.99607843 ... 0.99607843 0.99607843\n",
      "    0.99607843]]]\n",
      "\n",
      "\n",
      " [[[0.99607843 0.99607843 0.99607843 ... 0.99607843 0.99607843\n",
      "    0.99607843]\n",
      "   [0.99607843 0.99607843 0.99607843 ... 0.99607843 0.99607843\n",
      "    0.99607843]\n",
      "   [0.99607843 0.99607843 0.99607843 ... 0.99607843 0.99607843\n",
      "    0.99607843]\n",
      "   ...\n",
      "   [0.99607843 0.99607843 0.99607843 ... 0.         0.\n",
      "    0.        ]\n",
      "   [0.99607843 0.99607843 0.99607843 ... 0.         0.\n",
      "    0.2627451 ]\n",
      "   [0.99607843 0.99607843 0.99607843 ... 0.9490196  1.\n",
      "    1.        ]]]\n",
      "\n",
      "\n",
      " [[[0.99607843 0.99607843 0.99607843 ... 0.99607843 0.99607843\n",
      "    0.99607843]\n",
      "   [0.99607843 0.99607843 0.99607843 ... 0.99607843 0.99607843\n",
      "    0.99607843]\n",
      "   [0.99607843 0.99607843 0.99607843 ... 0.99215686 0.99607843\n",
      "    0.99607843]\n",
      "   ...\n",
      "   [0.99607843 0.99607843 0.99607843 ... 0.08235294 0.03921569\n",
      "    0.78431374]\n",
      "   [0.99607843 0.99607843 0.99607843 ... 0.         0.\n",
      "    0.        ]\n",
      "   [0.99607843 0.99607843 0.99607843 ... 0.52156866 0.15294118\n",
      "    0.29803923]]]\n",
      "\n",
      "\n",
      " ...\n",
      "\n",
      "\n",
      " [[[1.         1.         1.         ... 1.         1.\n",
      "    1.        ]\n",
      "   [0.         0.         0.         ... 1.         1.\n",
      "    1.        ]\n",
      "   [0.         0.         0.         ... 1.         1.\n",
      "    1.        ]\n",
      "   ...\n",
      "   [1.         1.         1.         ... 0.         0.\n",
      "    0.11372549]\n",
      "   [1.         1.         1.         ... 0.         0.\n",
      "    0.        ]\n",
      "   [1.         1.         1.         ... 0.6156863  0.3019608\n",
      "    0.20392157]]]\n",
      "\n",
      "\n",
      " [[[0.6627451  0.10980392 0.45882353 ... 1.         1.\n",
      "    1.        ]\n",
      "   [0.27058825 0.         0.         ... 1.         1.\n",
      "    1.        ]\n",
      "   [0.28627452 0.         0.         ... 1.         1.\n",
      "    1.        ]\n",
      "   ...\n",
      "   [0.16862746 0.         0.         ... 0.         0.\n",
      "    0.24313726]\n",
      "   [0.2901961  0.         0.         ... 0.         0.\n",
      "    0.07450981]\n",
      "   [1.         0.09411765 0.         ... 0.972549   1.\n",
      "    1.        ]]]\n",
      "\n",
      "\n",
      " [[[1.         1.         1.         ... 1.         1.\n",
      "    1.        ]\n",
      "   [1.         1.         1.         ... 0.2901961  0.8862745\n",
      "    1.        ]\n",
      "   [0.8117647  0.         0.02352941 ... 0.         0.\n",
      "    0.7490196 ]\n",
      "   ...\n",
      "   [1.         1.         0.05882353 ... 1.         1.\n",
      "    1.        ]\n",
      "   [1.         1.         0.47843137 ... 1.         1.\n",
      "    1.        ]\n",
      "   [1.         1.         1.         ... 1.         1.\n",
      "    1.        ]]]]\n"
     ]
    }
   ],
   "source": [
    "# 正規化\n",
    "train_data = (train_data - train_data.min()) / train_data.max()\n",
    "train_data = train_data.astype('float32')\n",
    "print(train_data)"
   ]
  },
  {
   "cell_type": "code",
   "execution_count": 12,
   "metadata": {},
   "outputs": [
    {
     "name": "stdout",
     "output_type": "stream",
     "text": [
      "train_data.shape= (3000, 784)\n"
     ]
    }
   ],
   "source": [
    "# 配列形式変更\n",
    "train_data = train_data.reshape(-1, 28*28)\n",
    "print(\"train_data.shape=\", train_data.shape)"
   ]
  },
  {
   "cell_type": "markdown",
   "metadata": {},
   "source": [
    "## trainとtestに分割する"
   ]
  },
  {
   "cell_type": "code",
   "execution_count": 13,
   "metadata": {},
   "outputs": [
    {
     "name": "stdout",
     "output_type": "stream",
     "text": [
      "(2100, 784) (900, 784)\n"
     ]
    }
   ],
   "source": [
    "X_train, X_test, y_train, y_test = train_test_split(train_data, train_label, \n",
    "                                                                                        test_size=0.3, random_state=1234,\n",
    "                                                                                        shuffle=True\n",
    "                                                                                       )\n",
    "\n",
    "print(X_train.shape, X_test.shape)"
   ]
  },
  {
   "cell_type": "markdown",
   "metadata": {},
   "source": [
    "## 学習"
   ]
  },
  {
   "cell_type": "code",
   "execution_count": 14,
   "metadata": {
    "scrolled": false
   },
   "outputs": [
    {
     "name": "stdout",
     "output_type": "stream",
     "text": [
      "epoch=0\n",
      "epoch=1\n",
      "epoch=2\n",
      "epoch=3\n",
      "epoch=4\n",
      "epoch=5\n",
      "epoch=6\n",
      "epoch=7\n",
      "epoch=8\n",
      "epoch=9\n"
     ]
    }
   ],
   "source": [
    "epochs = 10\n",
    "batch_size = 32\n",
    "lr = 0.01\n",
    "\n",
    "# 繰り返し回数\n",
    "xsize = X_train.shape[0]\n",
    "iter_num = np.ceil(xsize / batch_size).astype(np.int)\n",
    "\n",
    "# 2層NNのオブジェクト生成\n",
    "tnet = TwoLayerNet(input_size=28*28, hidden_size=10, output_size=15)\n",
    "\n",
    "train_loss = []\n",
    "test_loss = []\n",
    "train_accuracy = []\n",
    "test_accuracy = []\n",
    "for epoch in range(epochs):\n",
    "    print(\"epoch=%s\"%epoch)\n",
    "    \n",
    "    # シャッフル\n",
    "    idx = np.arange(xsize)\n",
    "    np.random.shuffle(idx)\n",
    "\n",
    "    for it in range(iter_num):\n",
    "        \"\"\"\n",
    "        ランダムなミニバッチを順番に取り出す\n",
    "        \"\"\"\n",
    "        mask = idx[batch_size*it : batch_size*(it+1)]\n",
    "    \n",
    "        # ミニバッチの生成\n",
    "        x_ = X_train[mask]\n",
    "        y_ = y_train[mask]\n",
    "        \n",
    "        # 勾配の計算\n",
    "        grads = tnet.gradient(x_, y_)\n",
    "\n",
    "        # パラメータの更新\n",
    "        for key in tnet.params.keys():\n",
    "    #         print(key)\n",
    "            tnet.params[key] -= lr * grads[key]\n",
    "\n",
    "    ## 学習経過の記録\n",
    "    \n",
    "    # 訓練データにおけるloss\n",
    "    train_loss.append(tnet.loss(X_train,  y_train))\n",
    "    \n",
    "    # テストデータにおけるloss\n",
    "    test_loss.append(tnet.loss(X_test, y_test))\n",
    "    \n",
    "    # 訓練データにて精度を確認\n",
    "    train_accuracy.append(tnet.accuracy(X_train, y_train))\n",
    "\n",
    "    # テストデータにて精度を算出\n",
    "    test_accuracy.append(tnet.accuracy(X_test, y_test))"
   ]
  },
  {
   "cell_type": "code",
   "execution_count": 15,
   "metadata": {
    "scrolled": true
   },
   "outputs": [
    {
     "data": {
      "image/png": "[encoded data removed]",
      "text/plain": [
       "<matplotlib.figure.Figure at 0x1210aa358>"
      ]
     },
     "metadata": {},
     "output_type": "display_data"
    }
   ],
   "source": [
    "# lossのグラフ化\n",
    "df_log = pd.DataFrame({\"train_loss\":train_loss,\n",
    "             \"test_loss\":test_loss,\n",
    "             \"train_accuracy\":train_accuracy,\n",
    "             \"test_accuracy\":test_accuracy})\n",
    "df_log.plot()\n",
    "plt.ylabel(\"loss\")\n",
    "plt.xlabel(\"epochs\")\n",
    "plt.show()"
   ]
  },
  {
   "cell_type": "markdown",
   "metadata": {},
   "source": [
    "## 学習済みモデルの出力"
   ]
  },
  {
   "cell_type": "code",
   "execution_count": 8,
   "metadata": {},
   "outputs": [],
   "source": [
    "with open(\"katakana_model.pickle\", \"wb\") as f:\n",
    "    pickle.dump(tnet, f)"
   ]
  },
  {
   "cell_type": "code",
   "execution_count": null,
   "metadata": {},
   "outputs": [],
   "source": []
  }
 ],
 "metadata": {
  "kernelspec": {
   "display_name": "Python 3",
   "language": "python",
   "name": "python3"
  },
  "language_info": {
   "codemirror_mode": {
    "name": "ipython",
    "version": 3
   },
   "file_extension": ".py",
   "mimetype": "text/x-python",
   "name": "python",
   "nbconvert_exporter": "python",
   "pygments_lexer": "ipython3",
   "version": "3.6.4"
  }
 },
 "nbformat": 4,
 "nbformat_minor": 2
}
